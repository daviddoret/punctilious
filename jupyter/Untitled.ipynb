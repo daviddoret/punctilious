{
 "cells": [
  {
   "cell_type": "markdown",
   "id": "055fe6b4-f735-4f23-ae60-dd02a2026897",
   "metadata": {},
   "source": [
    "# Every theory-state can be proven"
   ]
  },
  {
   "cell_type": "code",
   "execution_count": null,
   "id": "b5815aad-3a54-4ba0-a91e-954d944379d5",
   "metadata": {},
   "outputs": [],
   "source": []
  }
 ],
 "metadata": {
  "kernelspec": {
   "display_name": "Python 3 (ipykernel)",
   "language": "python",
   "name": "python3"
  },
  "language_info": {
   "codemirror_mode": {
    "name": "ipython",
    "version": 3
   },
   "file_extension": ".py",
   "mimetype": "text/x-python",
   "name": "python",
   "nbconvert_exporter": "python",
   "pygments_lexer": "ipython3",
   "version": "3.12.0"
  }
 },
 "nbformat": 4,
 "nbformat_minor": 5
}
