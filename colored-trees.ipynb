{
 "cells": [
  {
   "cell_type": "markdown",
   "id": "37ff9169-fc62-47dc-84a0-8aa26ba415f3",
   "metadata": {},
   "source": [
    "hello\n"
   ]
  },
  {
   "cell_type": "code",
   "execution_count": null,
   "id": "79df815c-330d-4443-b246-7d380a96ed2d",
   "metadata": {},
   "outputs": [],
   "source": []
  }
 ],
 "metadata": {
  "kernelspec": {
   "display_name": "Python 3 (ipykernel)",
   "language": "python",
   "name": "python3"
  },
  "language_info": {
   "codemirror_mode": {
    "name": "ipython",
    "version": 3
   },
   "file_extension": ".py",
   "mimetype": "text/x-python",
   "name": "python",
   "nbconvert_exporter": "python",
   "pygments_lexer": "ipython3",
   "version": "3.12.0"
  }
 },
 "nbformat": 4,
 "nbformat_minor": 5
}
